{
  "nbformat": 4,
  "nbformat_minor": 0,
  "metadata": {
    "colab": {
      "provenance": []
    },
    "kernelspec": {
      "name": "python3",
      "display_name": "Python 3"
    },
    "language_info": {
      "name": "python"
    }
  },
  "cells": [
    {
      "cell_type": "markdown",
      "source": [
        "**Aspect Extraction ----NER**"
      ],
      "metadata": {
        "id": "C5hZTKfPVF2q"
      }
    },
    {
      "cell_type": "code",
      "execution_count": null,
      "metadata": {
        "id": "u5kp3SlOVAAe"
      },
      "outputs": [],
      "source": [
        "#Aspect extraction\n",
        "import numpy as np\n",
        "import spacy\n",
        "\n",
        "nlp = spacy.load(\"en_core_web_sm\")\n",
        "\n",
        "def extract_aspect_terms(text):\n",
        "    if isinstance(text, float) and np.isnan(text):\n",
        "        return []\n",
        "    doc = nlp(str(text))\n",
        "    aspect_terms = []\n",
        "    for token in doc:\n",
        "        if token.pos_ in [\"NOUN\", \"PROPN\"]:\n",
        "            aspect_terms.append(token.text)\n",
        "        elif token.pos_ == \"ADJ\" and token.head.pos_ in [\"NOUN\", \"PROPN\"]:\n",
        "            aspect_terms.append(token.head.text + \" \" + token.text)\n",
        "            print(aspect_terms)\n",
        "    return aspect_terms[:5]\n",
        "\n",
        "pr_data['Aspect Terms'] = pr_data['Cleaned_content'].apply(extract_aspect_terms)\n",
        "downlod_needed = pr_data\n",
        "print(pr_data[['product_id','id', 'Cleaned_content','listing_id', 'Aspect Terms']])"
      ]
    },
    {
      "cell_type": "code",
      "source": [
        "unique_product_ids = pr_data['product_id'].unique()\n",
        "print(unique_product_ids)"
      ],
      "metadata": {
        "id": "zpGVqHaMVWrS"
      },
      "execution_count": null,
      "outputs": []
    },
    {
      "cell_type": "code",
      "source": [
        "# Select\n",
        "import ipywidgets as widgets\n",
        "from IPython.display import display\n",
        "\n",
        "def on_change(change):\n",
        "    if change['type'] == 'change' and change['name'] == 'value':\n",
        "        print(\"Selected Product ID:\", change['new'])\n",
        "\n",
        "\n",
        "\n",
        "# Create a dropdown widget\n",
        "dropdown = widgets.Dropdown(options=unique_product_ids, description='Product ID:')\n",
        "dropdown.observe(on_change)\n",
        "\n",
        "# Display the dropdown\n",
        "display(dropdown)"
      ],
      "metadata": {
        "id": "KYmPhsMoVd70"
      },
      "execution_count": null,
      "outputs": []
    },
    {
      "cell_type": "code",
      "source": [
        "# filtering review based on the selection\n",
        "filtered_df = pr_data[pr_data['product_id'] == dropdown.value]\n",
        "filtered_df.reset_index(drop=True, inplace=True)\n",
        "print(filtered_df)"
      ],
      "metadata": {
        "id": "J-DD5G9yVjXR"
      },
      "execution_count": null,
      "outputs": []
    }
  ]
}