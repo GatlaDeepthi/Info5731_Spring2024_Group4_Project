{
  "nbformat": 4,
  "nbformat_minor": 0,
  "metadata": {
    "colab": {
      "provenance": []
    },
    "kernelspec": {
      "name": "python3",
      "display_name": "Python 3"
    },
    "language_info": {
      "name": "python"
    }
  },
  "cells": [
    {
      "cell_type": "markdown",
      "source": [
        "**Review_Retrieval:**"
      ],
      "metadata": {
        "id": "DYjypWilWVbG"
      }
    },
    {
      "cell_type": "code",
      "execution_count": null,
      "metadata": {
        "id": "_sFuVXbmWMm_"
      },
      "outputs": [],
      "source": [
        "# Retriving top 20 results\n",
        "def find_similar_texts(query, n=21):\n",
        "    query_embedding = model.encode(query)\n",
        "    query_embedding = np.ascontiguousarray(\n",
        "        np.array(query_embedding, dtype=\"float32\").reshape(1, -1)\n",
        "    )\n",
        "    faiss.normalize_L2(query_embedding)\n",
        "    similarities, indices = index.search(query_embedding, n)\n",
        "    results = []\n",
        "    num_valid_indices = min(n, len(enhanced_dataframe))\n",
        "    for i in range(num_valid_indices):\n",
        "        similarity = similarities[0][i]\n",
        "        index_id = indices[0][i]\n",
        "        while index_id < 0 or index_id >= len(enhanced_dataframe):\n",
        "            i += 1\n",
        "            if i >= num_valid_indices:\n",
        "                break\n",
        "            index_id = indices[0][i]\n",
        "        if index_id < 0 or index_id >= len(enhanced_dataframe):\n",
        "            continue\n",
        "        result_text = enhanced_dataframe.loc[index_id, \"Cleaned_content\"]\n",
        "        results.append(result_text)\n",
        "    return results[:n]"
      ]
    },
    {
      "cell_type": "code",
      "source": [
        "query = \"platform\"\n",
        "search_results = find_similar_texts(query)\n",
        "print(np.array(search_results))"
      ],
      "metadata": {
        "id": "oZa7tswjWQBl"
      },
      "execution_count": null,
      "outputs": []
    }
  ]
}