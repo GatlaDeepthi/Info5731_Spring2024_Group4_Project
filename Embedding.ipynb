{
  "nbformat": 4,
  "nbformat_minor": 0,
  "metadata": {
    "colab": {
      "provenance": []
    },
    "kernelspec": {
      "name": "python3",
      "display_name": "Python 3"
    },
    "language_info": {
      "name": "python"
    }
  },
  "cells": [
    {
      "cell_type": "markdown",
      "source": [
        "**Embedding the reviews:**"
      ],
      "metadata": {
        "id": "BzvQ5kNlVzWE"
      }
    },
    {
      "cell_type": "code",
      "execution_count": null,
      "metadata": {
        "id": "8U1__6gRVSta"
      },
      "outputs": [],
      "source": [
        "# Embedding\n",
        "import numpy as np\n",
        "from sentence_transformers import SentenceTransformer\n",
        "model = SentenceTransformer('jinaai/jina-embedding-s-en-v1')\n",
        "def generate_embeddings(input_df):\n",
        "    all_embeddings = []\n",
        "\n",
        "    for t in input_df.Cleaned_content:\n",
        "        review_embeddings = []\n",
        "        all_embeddings.append(np.array(model.encode(t)))\n",
        "\n",
        "    input_df[\"embeddings\"] = all_embeddings\n",
        "    return input_df\n",
        "\n",
        "enhanced_dataframe = generate_embeddings(filtered_df)"
      ]
    },
    {
      "cell_type": "code",
      "source": [
        "enhanced_dataframe.head()"
      ],
      "metadata": {
        "id": "1V9qYr00V-lG"
      },
      "execution_count": null,
      "outputs": []
    }
  ]
}