{
  "nbformat": 4,
  "nbformat_minor": 0,
  "metadata": {
    "colab": {
      "provenance": []
    },
    "kernelspec": {
      "name": "python3",
      "display_name": "Python 3"
    },
    "language_info": {
      "name": "python"
    }
  },
  "cells": [
    {
      "cell_type": "markdown",
      "source": [
        "**Vector Database Creation:**"
      ],
      "metadata": {
        "id": "vGxayGvoWDAF"
      }
    },
    {
      "cell_type": "code",
      "execution_count": null,
      "metadata": {
        "id": "UkstReSzV7vG"
      },
      "outputs": [],
      "source": [
        "# vector database creation\n",
        "import faiss\n",
        "import numpy as np\n",
        "\n",
        "if 'embeddings' not in enhanced_dataframe.columns:\n",
        "    print(\"Error: 'embeddings' column not found in DataFrame\")\n",
        "else:\n",
        "    dim = len(enhanced_dataframe['embeddings'].iloc[0])\n",
        "    index = faiss.IndexFlatIP(dim)\n",
        "    embeddings_array = np.vstack(enhanced_dataframe['embeddings'])\n",
        "    faiss.normalize_L2(embeddings_array)\n",
        "    index.add(embeddings_array)\n",
        "\n",
        "expected_indexes = range(len(filtered_df))\n",
        "# Find missing indexes\n",
        "missing_indexes = [index for index in expected_indexes if index not in filtered_df.index or index == -1]"
      ]
    }
  ]
}