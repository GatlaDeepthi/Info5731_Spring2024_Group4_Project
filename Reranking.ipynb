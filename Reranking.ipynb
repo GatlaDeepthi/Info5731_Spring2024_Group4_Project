{
  "nbformat": 4,
  "nbformat_minor": 0,
  "metadata": {
    "colab": {
      "provenance": []
    },
    "kernelspec": {
      "name": "python3",
      "display_name": "Python 3"
    },
    "language_info": {
      "name": "python"
    }
  },
  "cells": [
    {
      "cell_type": "markdown",
      "source": [
        "**Re-Ranking:**"
      ],
      "metadata": {
        "id": "I5kKmzoPWliB"
      }
    },
    {
      "cell_type": "code",
      "execution_count": null,
      "metadata": {
        "id": "OxVgW7TRWexY"
      },
      "outputs": [],
      "source": [
        "# reranking  and getting top 5 reviews\n",
        "from sentence_transformers import CrossEncoder\n",
        "\n",
        "jina_reranking_model = CrossEncoder(\"jinaai/jina-reranker-v1-tiny-en\", trust_remote_code=True)\n",
        "\n",
        "results = jina_reranking_model.rank(query, search_results, return_documents=True, top_k=5)"
      ]
    },
    {
      "cell_type": "code",
      "source": [
        "all_reviews = [item['text'] for item in results]\n",
        "print(np.array(all_reviews))"
      ],
      "metadata": {
        "id": "2jK5Tx0UWkf9"
      },
      "execution_count": null,
      "outputs": []
    }
  ]
}